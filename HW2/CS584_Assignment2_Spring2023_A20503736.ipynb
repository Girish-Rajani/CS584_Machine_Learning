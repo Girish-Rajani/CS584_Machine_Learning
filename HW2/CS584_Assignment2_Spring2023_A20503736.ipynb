{
  "cells": [
    {
      "attachments": {},
      "cell_type": "markdown",
      "metadata": {
        "id": "Z7_hx8SJJR4-"
      },
      "source": [
        "# Assignment 2 - Logistic Regression & Naive Bayes - A20503736 Girish Rajani\n",
        "\n",
        "Due by 11:59pm, Feb 24, 2023"
      ]
    },
    {
      "cell_type": "markdown",
      "metadata": {
        "id": "pyGrk2X_J_1h"
      },
      "source": [
        "## Theory Questions (Full points: 40, each question 4 points)"
      ]
    },
    {
      "cell_type": "markdown",
      "metadata": {
        "id": "b8OnMEI0JXxA"
      },
      "source": [
        "1. Explain the importance of setting up learning rate in the gradient descent based methods. "
      ]
    },
    {
      "attachments": {},
      "cell_type": "markdown",
      "metadata": {
        "id": "uv3iz5dBJX7Z"
      },
      "source": [
        "**Answer:**\n",
        "\n",
        "In gradient descent, setting up a learning rate is important because it denotes the rate at which the gradient descent algorithm updates and gets closer to finding the optimal weights that will reduce the loss. \n",
        "\n",
        "It is important to select the learning rate wisely because if the learning rate is too large, the step size will be too large which can cause the model to converge too fast and miss the optimal point which may increase the loss function instead of minimizing it.\n",
        "\n",
        "If the learning rate is too small, it will take a very large number of epochs to reach the local minima point and minimze the loss."
      ]
    },
    {
      "cell_type": "markdown",
      "metadata": {
        "id": "wO8kErgCJX-P"
      },
      "source": [
        "2. What is the stochastic gradient descent? Why do we need stochastic gradient descent?"
      ]
    },
    {
      "attachments": {},
      "cell_type": "markdown",
      "metadata": {
        "id": "nEviYAL2JeWs"
      },
      "source": [
        "**Answer:**\n",
        "\n",
        "In machine learning, stochastic gradient descent is very similar to gradient descent in that it is an optimizer that minimzes the loss by finding the optimal weights of the model. SGD helps solve the following problem with gradient descent:\n",
        "\n",
        "For every epoch, gradient descent algorithm looks through the entire training dataset when making an update. This operation can get very expensive to perform for very large datasets.\n",
        "\n",
        "To solve this, SGD takes a random batch/sample size of the training set and looks at that when making an update per iteration. This makes SGD a lot faster."
      ]
    },
    {
      "cell_type": "markdown",
      "metadata": {
        "id": "9vQD3sgwJYBS"
      },
      "source": [
        "3. Explain the reasons to perform feature scaling."
      ]
    },
    {
      "attachments": {},
      "cell_type": "markdown",
      "metadata": {
        "id": "t-e37RdDJfmd"
      },
      "source": [
        "**Answer:**\n",
        "\n",
        "Normally, if our data is within a large scale/range, the machine learning model would be biased, in that it would consider the higher values as a greater weight and would consider the smaller values as less weight. \n",
        "\n",
        "In the event when our values are of equal importance, whether it be high or low, we perform feature scaling to bring these values within the same scale which can increase the performance of the model."
      ]
    },
    {
      "cell_type": "markdown",
      "metadata": {
        "id": "dOqhvEpuJYEX"
      },
      "source": [
        "4. What is the probabilistic generative model?"
      ]
    },
    {
      "attachments": {},
      "cell_type": "markdown",
      "metadata": {
        "id": "rf5JjDFDJe6G"
      },
      "source": [
        "**Answer:**\n",
        "\n",
        "The probabilistic generative model learns the probability distribution for each class from the training data. This means that it learns the distribution of the input x and it's corresponding classes y. \n",
        "\n",
        "It then uses this probability distribution to predict the probability that an input x belongs to each class then classifies that feature into the label that has the highest probability."
      ]
    },
    {
      "cell_type": "markdown",
      "metadata": {
        "id": "W8V802XDJjxe"
      },
      "source": [
        "5. Explain how we perform maximum likelihood."
      ]
    },
    {
      "attachments": {},
      "cell_type": "markdown",
      "metadata": {
        "id": "S3PrgB7kJl99"
      },
      "source": [
        "**Answer:**\n",
        "\n",
        "Maximum likelihood estimation (MLE) tries to find parameters that maximize the likelihood function. This explains how well the model performs since it measures the probability that a sample belongs to a class given the model weights.\n",
        "\n",
        "We perform MLE by doing the following: \n",
        "\n",
        "1) We choose the likelihood function that is relevant to our model for the given problem.\n",
        "\n",
        "2) We take the log likelihood of the chosen likelihood funcion to make the computation simpler\n",
        "\n",
        "3) We take the derivative of the log likelihood function w.r.t the weights of the model\n",
        "\n",
        "4) Find the model weights that will maximize the likelihood function and use that to find the maximum probability for predicting an input x given a class C"
      ]
    },
    {
      "cell_type": "markdown",
      "metadata": {
        "id": "3kUcM98LJj9N"
      },
      "source": [
        "6. Explain the reasons about using cross entropy loss in logistic regression."
      ]
    },
    {
      "attachments": {},
      "cell_type": "markdown",
      "metadata": {
        "id": "xuECRF2PJk81"
      },
      "source": [
        "**Answer:**\n",
        "\n",
        "Cross entropy loss is a very popular loss function in logistic regression. It measures the distance between the prediction (y_hat) and the true value (y). This loss is measured between 0 and 1, where we want to get our model as close to 0. \n",
        "\n",
        "The goal of cross entropy is to minimize the loss during training for logistic regression. Cross entropy loss also helps to find the global minimum point easier since the loss results in a convex loss function."
      ]
    },
    {
      "cell_type": "markdown",
      "metadata": {
        "id": "q8bCRVRaJkBP"
      },
      "source": [
        "7. Explain the differences between discriminative and generative model.\n"
      ]
    },
    {
      "attachments": {},
      "cell_type": "markdown",
      "metadata": {
        "id": "YEdAdRiu1ksO"
      },
      "source": [
        "**Answer:**\n",
        "\n",
        "Discriminative model (also known as conditional models) learns the decision boundaries between classes from the input x. It learns to map the input x to the class which means that this model is used to separate one class from another. Discriminative models can learn complex decisions which generative models cannot do, is more robust to outliers and is less expensive. However, they may need to overfitting when there is a large dataset. Some examples of discriminative models are Logistic Regression, Scalar Vector Machines, and Neural Networks.\n",
        "\n",
        "Generative models learns the probability distribution for each class from the training data which can be used to generate new data similar to the existing training data. This is possible because these models learn the relationship between the input x and their corresponding classes. This is helpful for tasks such as data augmentation and likelihood estimate. However, they do require a large amount of data and can become computationally expensive. Some examples of generative models are Naive Bayes, Bayesian networks, and Markov random fields"
      ]
    },
    {
      "cell_type": "markdown",
      "metadata": {
        "id": "dcZpkIc01Rwe"
      },
      "source": [
        "8. What is N-folds? Explain the reasons why we need N-folds. "
      ]
    },
    {
      "attachments": {},
      "cell_type": "markdown",
      "metadata": {
        "id": "R2KIVplzJlYt"
      },
      "source": [
        "**Answer:**\n",
        "\n",
        "N-fold cross validation divides the data into N equal subsets. One subset is used as the testing set while the remaining N-1 folds is used as training. This process is repeated for each unique fold. \n",
        "\n",
        "The reason for performing N-fold cross validation is that at some given point, all samples in the training data would have also been used for testing which will result in a better model evaluation if we have limited data. This also helps avoid overfitting."
      ]
    },
    {
      "cell_type": "markdown",
      "metadata": {
        "id": "RCL0MZN6JkET"
      },
      "source": [
        "9. Bishop's Book \"Pattern Recognition and Machine learning\" - Exercise 4.12"
      ]
    },
    {
      "attachments": {},
      "cell_type": "markdown",
      "metadata": {
        "id": "M-h519EbJmbz"
      },
      "source": [
        "**Answer:**\n",
        "\n",
        "$ \\frac {d\\sigma}{da} =\\frac {e^{−a}} {(1 + e^{-a})^2}$\n",
        "\n",
        "$ = \\sigma(a) [\\frac {e^{−a}} {1 + e^{-a}} ]$\n",
        "\n",
        "$ = \\sigma(a) [ \\frac {1 + e^{−a}} {1 + e^{-a}} - \\frac {1} {1 + e^{-a}} ]$\n",
        "\n",
        "$ = \\sigma(a)(1 − \\sigma(a))$\n",
        "\n",
        "$ = \\sigma(1 − \\sigma)$"
      ]
    },
    {
      "cell_type": "markdown",
      "metadata": {
        "id": "4_JyVbXB0LSH"
      },
      "source": [
        "10. Bishop's Book \"Pattern Recognition and Machine learning\" - Exercise 4.13"
      ]
    },
    {
      "attachments": {},
      "cell_type": "markdown",
      "metadata": {
        "id": "8JYA083y0Z7Q"
      },
      "source": [
        "**Answer:**\n",
        "\n",
        "$\\frac {\\partial E} {\\partial y_n} = \\frac{1 − t_n}{1 − y_n} - \\frac {t_n}{y_n}$\n",
        "\n",
        "$ = \\frac {y_n(1 − t_n) − t_n(1 − y_n)}{y_n(1 − y_n)}$\n",
        "\n",
        "$ = \\frac {y_n − y_n t_n − t_n + y_n t_n}{y_n(1 − y_n)}$\n",
        "\n",
        "$ = \\frac {y_n − t_n}{y_n(1 − y_n)}$"
      ]
    },
    {
      "cell_type": "markdown",
      "metadata": {
        "id": "8AiWTVDf7cZ2"
      },
      "source": [
        "## Programming Questions (Full points: 60, each question 30 points)"
      ]
    },
    {
      "cell_type": "code",
      "execution_count": 1996,
      "metadata": {
        "id": "hUXdV3L376cA"
      },
      "outputs": [],
      "source": [
        "# Do not edit the codes in this cell\n",
        "# load required library\n",
        "import matplotlib.pyplot as plt\n",
        "import numpy as np\n",
        "from sklearn.datasets import load_wine\n",
        "from sklearn.model_selection import train_test_split\n",
        "from sklearn import preprocessing\n",
        "# load dataset\n",
        "x, y = load_wine(return_X_y=True)"
      ]
    },
    {
      "cell_type": "markdown",
      "metadata": {
        "id": "8iwaee_T-Urj"
      },
      "source": [
        "### - Logistic Regression"
      ]
    },
    {
      "cell_type": "markdown",
      "metadata": {
        "id": "zyrt2Ka7VFYK"
      },
      "source": [
        "0. train_test_split (Done in the below cell)\n",
        "\n",
        "We **randomly** split data into train and test set. The number of training data and testing data is 100 and 30, respectively. Do not modify the split data. You need to use training data to train your model and obtain an optimal solution. Finally, using your model with the optimal solution to predict the testing data. "
      ]
    },
    {
      "cell_type": "code",
      "execution_count": 1997,
      "metadata": {
        "id": "9M1DAu9XPY8E"
      },
      "outputs": [],
      "source": [
        "# Do not edit the codes in this cell\n",
        "# We split train and test data for logistic regression function\n",
        "\n",
        "test_lists = [0, 4, 5, 7, 13, 15, 19, 27, 28, 30, 31, 34, 39, 47, 63, 74, 78, 83, 90, 92, 95, 97, 103, 113, 119, 122, 123, 125, 126, 127]\n",
        "\n",
        "x = x[:130, :]\n",
        "y = y[:130]\n",
        "\n",
        "# training data: you can use it to training your model.\n",
        "train_x = np.array([sub_x for index, sub_x in enumerate(x) if index not in test_lists])\n",
        "train_y = np.array([sub_y for index, sub_y in enumerate(y) if index not in test_lists])\n",
        "\n",
        "# testing data: ONLY use it to measure your model, do NOT use during training.\n",
        "test_x = np.array([sub_x for index, sub_x in enumerate(x) if index in test_lists])\n",
        "test_y = np.array([sub_y for index, sub_y in enumerate(y) if index in test_lists])"
      ]
    },
    {
      "cell_type": "markdown",
      "metadata": {
        "id": "4LdQ5yubLJld"
      },
      "source": [
        "In the assignment 2, you have more freedom on your programming design. In this part, you are going to implement your own Logistic Regression function. You need to implement logistic regression with stochastic gradient descent from scratch. The required functions are listed below. You can add more functions as you need. **No library versions of logistic regression are allowed**. \n",
        "_________\n",
        "\n",
        "1. train_val_split\n",
        "\n",
        "**Randomly** split training data into train and val set. 80% of the training data will be the train set and 20% of the training data will be the val set.\n",
        "\n",
        "2. normalization (data preprocessing)\n",
        "\n",
        "You should normalize all data for each attribute firstly. \n",
        "\n",
        "3. sigmoid\n",
        "\n",
        "The core of logistic regression\n",
        "\n",
        "4. predict\n",
        "\n",
        "Predict an output value for a given x with a set of coefficients. \n",
        "\n",
        "5. accurate\n",
        "\n",
        "Calculate accuracy percentage of the predictions.\n",
        "\n",
        "6. coef_gd\n",
        "\n",
        "Estimate logistic regression coefficients using **vanilla gradient descent**. Using **the cross entropy loss**. Carefully choose learning rate and epochs values.\n",
        "\n",
        "7. draw_model\n",
        "\n",
        "a) Plot the both training loss and validation loss for each epochs.\n",
        "\n",
        "b) Plot the both training accuracy and validation accuracy for each epochs. \n",
        "\n",
        "8. predict the testing data\n",
        "\n",
        "Use your pre-trained model to predict the testing data. Print out your **testing accurate**. Is it good? If not, analyze the reason in short and modify your code to improve.  \n"
      ]
    },
    {
      "cell_type": "code",
      "execution_count": 1998,
      "metadata": {
        "id": "6AHamaj3f5xY"
      },
      "outputs": [
        {
          "data": {
            "text/plain": [
              "100"
            ]
          },
          "execution_count": 1998,
          "metadata": {},
          "output_type": "execute_result"
        }
      ],
      "source": [
        "len(train_x)\n"
      ]
    },
    {
      "cell_type": "code",
      "execution_count": 1999,
      "metadata": {},
      "outputs": [],
      "source": [
        "#train_val_split\n",
        "\n",
        "train_x, val_x, train_y, val_y = train_test_split(train_x, train_y, train_size=0.8)\n"
      ]
    },
    {
      "cell_type": "code",
      "execution_count": 2000,
      "metadata": {},
      "outputs": [
        {
          "name": "stdout",
          "output_type": "stream",
          "text": [
            "Shape of training dataset: (80, 13)\n",
            "Shape of validation dataset: (20, 13)\n",
            "\n",
            "First unnormalized training sample:\n",
            " [1.367e+01 1.250e+00 1.920e+00 1.800e+01 9.400e+01 2.100e+00 1.790e+00\n",
            " 3.200e-01 7.300e-01 3.800e+00 1.230e+00 2.460e+00 6.300e+02]\n",
            "\n",
            "First unnormalized validation sample:\n",
            " [1.165e+01 1.670e+00 2.620e+00 2.600e+01 8.800e+01 1.920e+00 1.610e+00\n",
            " 4.000e-01 1.340e+00 2.600e+00 1.360e+00 3.210e+00 5.620e+02]\n"
          ]
        }
      ],
      "source": [
        "print(\"Shape of training dataset:\",train_x.shape)\n",
        "print(\"Shape of validation dataset:\",val_x.shape)\n",
        "\n",
        "print(\"\\nFirst unnormalized training sample:\\n\",train_x[0])\n",
        "print(\"\\nFirst unnormalized validation sample:\\n\",val_x[0])"
      ]
    },
    {
      "cell_type": "code",
      "execution_count": 2001,
      "metadata": {},
      "outputs": [
        {
          "name": "stdout",
          "output_type": "stream",
          "text": [
            "First normalized training sample:\n",
            " [2.14464061e-02 1.96108322e-03 3.01222382e-03 2.82395984e-02\n",
            " 1.47473458e-01 3.29461981e-03 2.80827117e-03 5.02037304e-04\n",
            " 1.14527260e-03 5.96169299e-03 1.92970589e-03 3.85941178e-03\n",
            " 9.88385943e-01]\n",
            "\n",
            "First normalized validation sample:\n",
            " [2.04531901e-02 2.93191653e-03 4.59977323e-03 4.56466046e-02\n",
            " 1.54496200e-01 3.37082619e-03 2.82657821e-03 7.02255456e-04\n",
            " 2.35255578e-03 4.56466046e-03 2.38766855e-03 5.63560003e-03\n",
            " 9.86668915e-01]\n"
          ]
        }
      ],
      "source": [
        "#Normalization\n",
        "\n",
        "train_x = preprocessing.normalize(train_x)\n",
        "val_x = preprocessing.normalize(val_x)\n",
        "test_x = preprocessing.normalize(test_x)\n",
        "print(\"First normalized training sample:\\n\",train_x[0])\n",
        "print(\"\\nFirst normalized validation sample:\\n\",val_x[0])"
      ]
    },
    {
      "cell_type": "code",
      "execution_count": 2002,
      "metadata": {},
      "outputs": [],
      "source": [
        "#Sigmoid activation function\n",
        "\n",
        "def sigmoid(theta, train_x):\n",
        "    x = np.dot(theta, train_x.T)\n",
        "    return 1/(1+np.exp(-x))"
      ]
    },
    {
      "cell_type": "code",
      "execution_count": 2003,
      "metadata": {},
      "outputs": [],
      "source": [
        "#Predict function\n",
        "def predict(theta, train_x):\n",
        "    y_hat = sigmoid(theta, train_x)\n",
        "    prediction = [1 if i > 0.5 else 0 for i in y_hat]    \n",
        "    return prediction"
      ]
    },
    {
      "cell_type": "code",
      "execution_count": 2004,
      "metadata": {},
      "outputs": [],
      "source": [
        "# calculate accuracy\n",
        "def accurate(predict, train_y):\n",
        "    accuracy_percentage = (train_y == predict).mean()\n",
        "    return accuracy_percentage"
      ]
    },
    {
      "cell_type": "code",
      "execution_count": 2005,
      "metadata": {},
      "outputs": [],
      "source": [
        "#Cross Entropy Loss function\n",
        "\n",
        "def loss_function(theta, train_x, train_y):\n",
        "    n = len(train_x)\n",
        "    y_hat = sigmoid(theta, train_x)\n",
        "    loss = -1/n * np.sum((train_y * np.log(y_hat)) + (1- train_y) * np.log(1-y_hat))\n",
        "    return loss\n"
      ]
    },
    {
      "cell_type": "code",
      "execution_count": 2006,
      "metadata": {},
      "outputs": [],
      "source": [
        "lr = 0.1\n",
        "epochs = 5000\n",
        "theta = np.zeros(train_x.shape[1])\n",
        "\n",
        "# gradient descent to find the optimal fit\n",
        "def coef_gd(theta, train_x, train_y, val_x, val_y, lr, epochs):\n",
        "    loss_history = []\n",
        "    train_acc = []\n",
        "    loss_history_val = []\n",
        "    val_acc = []\n",
        "    \n",
        "    for epoch in range(epochs):\n",
        "        n = len(train_x)\n",
        "\n",
        "        #compute the training prediction error\n",
        "        y_hat = sigmoid(train_x, theta)\n",
        "        error = y_hat - train_y\n",
        "\n",
        "        #Update the weights using gradient descent update rule\n",
        "        gradient = np.dot(train_x.T, error)/n\n",
        "        theta -= lr*gradient\n",
        "\n",
        "        #Compute training loss using cross entropy loss\n",
        "        train_loss = -1/n * np.sum((train_y * np.log(y_hat)) + (1- train_y) * np.log(1-y_hat))\n",
        "\n",
        "        #Compute validation loss using cross entropy loss\n",
        "        y_hat_val = sigmoid(val_x, theta)\n",
        "        val_loss = -1/n * np.sum((val_y * np.log(y_hat_val)) + (1- val_y) * np.log(1-y_hat_val))\n",
        "\n",
        "        #Find training and validation accuracy\n",
        "        train_acc.append(accurate(predict(theta, train_x), train_y))\n",
        "        val_acc.append(accurate(predict(theta, val_x), val_y))\n",
        "\n",
        "        loss_history.append(train_loss)\n",
        "        loss_history_val.append(val_loss)\n",
        "    return theta, loss_history, loss_history_val, train_acc, val_acc\n"
      ]
    },
    {
      "cell_type": "code",
      "execution_count": 2007,
      "metadata": {},
      "outputs": [
        {
          "name": "stdout",
          "output_type": "stream",
          "text": [
            "Validation accuracy: 0.90\n"
          ]
        }
      ],
      "source": [
        "#Call gradient descent function\n",
        "final_theta, loss_history, loss_history_val, train_acc, val_acc = coef_gd(theta, train_x, train_y, val_x, val_y, lr, epochs)\n",
        "\n",
        "#Perform prediction on validation data using optimized weights obtained from gradient descent\n",
        "y_hat = predict(final_theta, val_x)\n",
        "\n",
        "#Compute the accuracy of the model on validation data\n",
        "accuracy = accurate(y_hat, val_y)\n",
        "\n",
        "print(\"Validation accuracy: {:.2f}\".format(accuracy))"
      ]
    },
    {
      "cell_type": "code",
      "execution_count": 2008,
      "metadata": {},
      "outputs": [
        {
          "data": {
            "image/png": "[encoded data removed]",
            "text/plain": [
              "<Figure size 640x480 with 1 Axes>"
            ]
          },
          "metadata": {},
          "output_type": "display_data"
        },
        {
          "data": {
            "image/png": "[encoded data removed]",
            "text/plain": [
              "<Figure size 640x480 with 1 Axes>"
            ]
          },
          "metadata": {},
          "output_type": "display_data"
        }
      ],
      "source": [
        "#Plot training and validation loss graph as a function of epochs\n",
        "epochs = range(1, len(loss_history) + 1)\n",
        "plt.plot(epochs, loss_history, 'r', label='Training loss')\n",
        "plt.plot(epochs, loss_history_val, 'b', label='Validation loss')\n",
        "plt.title('Training and validation loss')\n",
        "plt.xlabel('Epochs')\n",
        "plt.ylabel('Loss')\n",
        "plt.legend()\n",
        "plt.show()\n",
        "\n",
        "#Plot training and validation accuracy graph as a function of epochs\n",
        "plt.clf()\n",
        "plt.plot(epochs, train_acc, 'r', label='Training acc')\n",
        "plt.plot(epochs, val_acc, 'b', label='Validation acc')\n",
        "plt.title('Training and validation accuracy')\n",
        "plt.xlabel('Epochs')\n",
        "plt.ylabel('Loss')\n",
        "plt.legend()\n",
        "plt.show()"
      ]
    },
    {
      "cell_type": "code",
      "execution_count": 2011,
      "metadata": {},
      "outputs": [
        {
          "name": "stdout",
          "output_type": "stream",
          "text": [
            "Test accuracy: 0.87\n"
          ]
        },
        {
          "name": "stderr",
          "output_type": "stream",
          "text": [
            "C:\\Users\\giris\\AppData\\Local\\Temp\\ipykernel_28940\\4168197274.py:5: RuntimeWarning: overflow encountered in exp\n",
            "  return 1/(1+np.exp(-x))\n"
          ]
        }
      ],
      "source": [
        "#8. Predict the testing data\n",
        "y_hat_test = predict(final_theta, test_x)\n",
        "\n",
        "final_test_accuracy = accurate(y_hat_test, test_y)\n",
        "\n",
        "print(\"Test accuracy: {:.2f}\".format(final_test_accuracy))"
      ]
    },
    {
      "cell_type": "code",
      "execution_count": null,
      "metadata": {},
      "outputs": [],
      "source": [
        "'''\n",
        "From above, we can see that the accuracy on unseen test data is 87%\n",
        "This means that the model has performed very well because the accuracy\n",
        "on validation data was 90% which concludes that the model generalizes well to new unseen data\n",
        "'''\n"
      ]
    },
    {
      "cell_type": "markdown",
      "metadata": {
        "id": "7eNsYoFL7pOG"
      },
      "source": [
        "### - Naive Bayes Classifier"
      ]
    },
    {
      "cell_type": "markdown",
      "metadata": {
        "id": "HTuXPz9V8jIA"
      },
      "source": [
        "In this part, you are going to implement your own naive bayes classifier. \n",
        "You need to implement naive bayes classifier from scratch **using the training data of wine datasets train_x and train_y**. The required functions are listed below. You can add more functions as you need. **No library versions of naive bayes classifier are allowed**. \n",
        "_________\n",
        "\n",
        "1. train_val_split\n",
        "\n",
        "**Randomly** split training data into train and val set. 80% of the training data will be the train set and 20% of the training data will be the val set.\n",
        "\n",
        "2. normalization (data preprocessing)\n",
        "\n",
        "You should normalize all data for each attribute firstly. \n",
        "\n",
        "3. cross_validation_split\n",
        "\n",
        "**Randomly** split data into 5 folds.\n",
        "\n",
        "\n",
        "4. predict\n",
        "\n",
        "Predict the class label for a given x. \n",
        "\n",
        "5. accurate\n",
        "\n",
        "Calculate accuracy percentage of the predictions. Remember to average the results of k folds\n",
        "\n",
        "6. gaussian_probability\n",
        "\n",
        "Calculate the Gaussian probability distribution function for the given x. \n",
        "\n",
        "![Image_20210920015911.png](data:image/png;base64,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)\n",
        "\n",
        "\n",
        "5. class_probability\n",
        "\n",
        "Calculate the probabilities of predicting each class for a given x using naive bayes algorithm. Be aware that we have multiple input variables. And you may want to use gaussian_probability function here.\n",
        "\n",
        "*Print out your accuracy result. Is it good? If not, analyze the reason in short. *\n"
      ]
    },
    {
      "cell_type": "code",
      "execution_count": 2047,
      "metadata": {
        "id": "f-jO9XrADS92"
      },
      "outputs": [
        {
          "name": "stdout",
          "output_type": "stream",
          "text": [
            "Fold 1 Accuracy: 0.89\n",
            "Fold 2 Accuracy: 0.96\n",
            "Fold 3 Accuracy: 0.93\n",
            "Fold 4 Accuracy: 1.00\n",
            "Fold 5 Accuracy: 1.00\n",
            "Average accuracy: 0.96\n",
            "Class 0 Gaussian probability: 5.40e-06\n",
            "Class 1 Gaussian probability: 1.41e-06\n",
            "Class 2 Gaussian probability: 2.58e-06\n"
          ]
        }
      ],
      "source": [
        "from sklearn.datasets import load_wine\n",
        "import numpy as np\n",
        "\n",
        "#Load dataset\n",
        "wine = load_wine()\n",
        "test_size = 0.2\n",
        "\n",
        "indices = np.arange(len(wine.data))\n",
        "np.random.seed(5)\n",
        "np.random.shuffle(indices)\n",
        "split_index = int(len(wine.data) * (1 - test_size))\n",
        "\n",
        "#Split the loaded dataset into training and testing set\n",
        "train_idx, test_idx = indices[:split_index], indices[split_index:]\n",
        "X_train, y_train = wine.data[train_idx], wine.target[train_idx]\n",
        "X_test, y_test = wine.data[test_idx], wine.target[test_idx]\n",
        "\n",
        "#Normalize data\n",
        "class Normalize:\n",
        "    def __init__(self):\n",
        "        self.mean_ = None\n",
        "        self.std_ = None\n",
        "\n",
        "    def fit(self, X):\n",
        "        self.mean_ = np.mean(X, axis=0)\n",
        "        self.std_ = np.std(X, axis=0)\n",
        "\n",
        "    def transform(self, X):\n",
        "        return (X - self.mean_) / self.std_\n",
        "\n",
        "    def fit_transform(self, X):\n",
        "        self.fit(X)\n",
        "        return self.transform(X)\n",
        "\n",
        "feature_scaling = Normalize()\n",
        "X_train = feature_scaling.fit_transform(X_train)\n",
        "X_test = feature_scaling.transform(X_test)\n",
        "\n",
        "class Naive_Bayes_Classifier:\n",
        "    def __init__(self):\n",
        "        self.class_priors_ = None\n",
        "        self.means_ = None\n",
        "        self.variances_ = None\n",
        "\n",
        "    def fit(self, X, y):\n",
        "        self.class_priors_ = np.bincount(y) / len(y)\n",
        "        self.means_ = np.array([X[y == i].mean(axis=0) for i in range(len(np.unique(y)))])\n",
        "        self.variances_ = np.array([X[y == i].var(axis=0) for i in range(len(np.unique(y)))])\n",
        "   \n",
        "    #Function to perform predict\n",
        "    def predict(self, X):\n",
        "        posteriors = []\n",
        "        for i in range(len(np.unique(y_train))):\n",
        "            prior = np.log(self.class_priors_[i])\n",
        "            mean = self.means_[i]\n",
        "            variance = self.variances_[i]\n",
        "            likelihood = np.sum(np.log((1/np.sqrt(2*np.pi*variance)) * np.exp(-(X-mean)**2/(2*variance))), axis=1)\n",
        "            posterior = prior + likelihood\n",
        "            posteriors.append(posterior)\n",
        "        return np.argmax(posteriors, axis=0)\n",
        "    \n",
        "   #gaussian_probability\n",
        "    def gaussian_probability(self, x, mean, var):\n",
        "        exponent = np.exp(-(x-mean)**2 / (2*var))\n",
        "        return (1 / np.sqrt(2*np.pi*var)) * exponent\n",
        "\n",
        "gaussian = Naive_Bayes_Classifier()\n",
        "accuracy_hist = []\n",
        "# 3. Cross_Validation_Split\n",
        "folds = 5\n",
        "size_of_fold = X_train.shape[0] // folds\n",
        "\n",
        "for fold_number in range(folds):\n",
        "    #Find starting and ending folds\n",
        "    fold_strt = fold_number * size_of_fold\n",
        "    fold_end = (fold_number + 1) * size_of_fold\n",
        "\n",
        "    #Perform n fold cross validation\n",
        "    X_train_crossval = np.concatenate((X_train[:fold_strt], X_train[fold_end:]), axis=0)\n",
        "    y_train_crossval = np.concatenate((y_train[:fold_strt], y_train[fold_end:]), axis=0)\n",
        "    X_val_crossval = X_train[fold_strt:fold_end]\n",
        "    y_val_crossval = y_train[fold_strt:fold_end]\n",
        "\n",
        "    #fit the cross validation data and perform prediction\n",
        "    gaussian.fit(X_train_crossval, y_train_crossval)\n",
        "    y_pred_crossval = gaussian.predict(X_val_crossval)\n",
        "\n",
        "    #Calculate accuracy percentage of the predictions\n",
        "    accurate = (y_pred_crossval == y_val_crossval).mean()\n",
        "    accuracy_hist.append(accurate)\n",
        "    print(f\"Fold {fold_number+1} Accuracy: {accurate:.2f}\")\n",
        "\n",
        "#Print average accuracy of all folds\n",
        "print(f\"Average accuracy: {np.mean(accuracy_hist):.2f}\")\n",
        "\n",
        "#Calculate class_probability\n",
        "for i in range(len(np.unique(y_train))):\n",
        "    mean = gaussian.means_[i]\n",
        "    var = gaussian.variances_[i]\n",
        "    gaussian_probability_hist = []\n",
        "    for j in range(X_test.shape[1]):\n",
        "        prob = gaussian.gaussian_probability(X_test[:,j], mean[j], var[j])\n",
        "        gaussian_probability_hist.append(prob)\n",
        "    gaussian_probability_hist = np.prod(gaussian_probability_hist, axis=0)\n",
        "    print(f\"Class {i} Gaussian probability: {gaussian_probability_hist.mean():.2e}\")\n"
      ]
    },
    {
      "cell_type": "code",
      "execution_count": null,
      "metadata": {},
      "outputs": [],
      "source": [
        "#From above, we can see that the average accuracy of all folds is 96% which shows that the model performs very well\n",
        "#Additionally, the class with the lowest gaussian probability is Class 1 which means that the other two classes have a higher probability of a sample belonging to one of those classes."
      ]
    }
  ],
  "metadata": {
    "colab": {
      "provenance": []
    },
    "kernelspec": {
      "display_name": "base",
      "language": "python",
      "name": "python3"
    },
    "language_info": {
      "codemirror_mode": {
        "name": "ipython",
        "version": 3
      },
      "file_extension": ".py",
      "mimetype": "text/x-python",
      "name": "python",
      "nbconvert_exporter": "python",
      "pygments_lexer": "ipython3",
      "version": "3.9.12"
    },
    "pycharm": {
      "stem_cell": {
        "cell_type": "raw",
        "metadata": {
          "collapsed": false
        },
        "source": []
      }
    },
    "vscode": {
      "interpreter": {
        "hash": "78ea0147692f73ae92295361bfd2a80892077a883c9067e6d45bd8d4c02935c4"
      }
    }
  },
  "nbformat": 4,
  "nbformat_minor": 0
}
